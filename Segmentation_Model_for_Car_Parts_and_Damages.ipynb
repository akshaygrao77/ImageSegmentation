{
  "cells": [
    {
      "cell_type": "code",
      "execution_count": 6,
      "metadata": {
        "id": "63evgfC3KPNW"
      },
      "outputs": [
        {
          "name": "stdout",
          "output_type": "stream",
          "text": [
            "  % Total    % Received % Xferd  Average Speed   Time    Time     Time  Current\n",
            "                                 Dload  Upload   Total   Spent    Left  Speed\n",
            "  0     0    0     0    0     0      0      0 --:--:-- --:--:-- --:--:--     0\n",
            "100 2959M  100 2959M    0     0  17.1M      0  0:02:52  0:02:52 --:--:-- 18.2M\n"
          ]
        }
      ],
      "source": [
        "# IMPORTANT: RUN THIS CELL IN ORDER TO IMPORT YOUR KAGGLE DATA SOURCES,\n",
        "# THEN FEEL FREE TO DELETE THIS CELL.\n",
        "# NOTE: THIS NOTEBOOK ENVIRONMENT DIFFERS FROM KAGGLE'S PYTHON\n",
        "# ENVIRONMENT SO THERE MAY BE MISSING LIBRARIES USED BY YOUR\n",
        "# NOTEBOOK.\n",
        "\n",
        "# !curl -L -o ./data/car-parts-and-car-damages.zip https://www.kaggle.com/api/v1/datasets/download/humansintheloop/car-parts-and-car-damages\n"
      ]
    },
    {
      "cell_type": "code",
      "execution_count": 11,
      "metadata": {},
      "outputs": [
        {
          "name": "stdout",
          "output_type": "stream",
          "text": [
            "Collecting openmim\n",
            "  Downloading openmim-0.3.9-py2.py3-none-any.whl (52 kB)\n",
            "\u001b[K     |████████████████████████████████| 52 kB 815 kB/s eta 0:00:011\n",
            "\u001b[?25hCollecting model-index\n",
            "  Downloading model_index-0.1.11-py3-none-any.whl (34 kB)\n",
            "Requirement already satisfied: pandas in /home/akshay/.conda/envs/research-work-DAG-DNN/lib/python3.7/site-packages (from openmim) (1.3.5)\n",
            "Requirement already satisfied: requests in /home/akshay/.conda/envs/research-work-DAG-DNN/lib/python3.7/site-packages (from openmim) (2.28.0)\n",
            "Collecting tabulate\n",
            "  Downloading tabulate-0.9.0-py3-none-any.whl (35 kB)\n",
            "Requirement already satisfied: Click in /home/akshay/.conda/envs/research-work-DAG-DNN/lib/python3.7/site-packages (from openmim) (8.0.4)\n",
            "Collecting rich\n",
            "  Downloading rich-13.8.1-py3-none-any.whl (241 kB)\n",
            "\u001b[K     |████████████████████████████████| 241 kB 2.4 MB/s eta 0:00:01\n",
            "\u001b[?25hRequirement already satisfied: pip>=19.3 in /home/akshay/.conda/envs/research-work-DAG-DNN/lib/python3.7/site-packages (from openmim) (21.2.2)\n",
            "Requirement already satisfied: colorama in /home/akshay/.conda/envs/research-work-DAG-DNN/lib/python3.7/site-packages (from openmim) (0.4.4)\n",
            "Collecting opendatalab\n",
            "  Downloading opendatalab-0.0.10-py3-none-any.whl (29 kB)\n",
            "Requirement already satisfied: importlib-metadata in /home/akshay/.conda/envs/research-work-DAG-DNN/lib/python3.7/site-packages (from Click->openmim) (4.11.3)\n",
            "Requirement already satisfied: zipp>=0.5 in /home/akshay/.conda/envs/research-work-DAG-DNN/lib/python3.7/site-packages (from importlib-metadata->Click->openmim) (3.8.0)\n",
            "Requirement already satisfied: typing-extensions>=3.6.4 in /home/akshay/.conda/envs/research-work-DAG-DNN/lib/python3.7/site-packages (from importlib-metadata->Click->openmim) (4.4.0)\n",
            "Requirement already satisfied: markdown in /home/akshay/.conda/envs/research-work-DAG-DNN/lib/python3.7/site-packages (from model-index->openmim) (3.3.4)\n",
            "Requirement already satisfied: pyyaml in /home/akshay/.conda/envs/research-work-DAG-DNN/lib/python3.7/site-packages (from model-index->openmim) (6.0)\n",
            "Collecting ordered-set\n",
            "  Downloading ordered_set-4.1.0-py3-none-any.whl (7.6 kB)\n",
            "Requirement already satisfied: tqdm in /home/akshay/.conda/envs/research-work-DAG-DNN/lib/python3.7/site-packages (from opendatalab->openmim) (4.64.0)\n",
            "Collecting pycryptodome\n",
            "  Downloading pycryptodome-3.21.0-cp36-abi3-manylinux_2_17_x86_64.manylinux2014_x86_64.whl (2.3 MB)\n",
            "\u001b[K     |████████████████████████████████| 2.3 MB 18.7 MB/s eta 0:00:01\n",
            "\u001b[?25hCollecting openxlab\n",
            "  Downloading openxlab-0.0.10-py3-none-any.whl (32 kB)\n",
            "Requirement already satisfied: certifi>=2017.4.17 in /home/akshay/.conda/envs/research-work-DAG-DNN/lib/python3.7/site-packages (from requests->openmim) (2022.12.7)\n",
            "Requirement already satisfied: charset-normalizer~=2.0.0 in /home/akshay/.conda/envs/research-work-DAG-DNN/lib/python3.7/site-packages (from requests->openmim) (2.0.4)\n",
            "Requirement already satisfied: idna<4,>=2.5 in /home/akshay/.conda/envs/research-work-DAG-DNN/lib/python3.7/site-packages (from requests->openmim) (3.3)\n",
            "Requirement already satisfied: urllib3<1.27,>=1.21.1 in /home/akshay/.conda/envs/research-work-DAG-DNN/lib/python3.7/site-packages (from requests->openmim) (1.26.9)\n",
            "Collecting oss2~=2.17.0\n",
            "  Downloading oss2-2.17.0.tar.gz (259 kB)\n",
            "\u001b[K     |████████████████████████████████| 259 kB 57.7 MB/s eta 0:00:01\n",
            "\u001b[?25hCollecting requests\n",
            "  Downloading requests-2.28.2-py3-none-any.whl (62 kB)\n",
            "\u001b[K     |████████████████████████████████| 62 kB 3.9 MB/s  eta 0:00:01\n",
            "\u001b[?25hCollecting tqdm\n",
            "  Downloading tqdm-4.65.2-py3-none-any.whl (77 kB)\n",
            "\u001b[K     |████████████████████████████████| 77 kB 14.2 MB/s eta 0:00:01\n",
            "\u001b[?25hCollecting setuptools~=60.2.0\n",
            "  Downloading setuptools-60.2.0-py3-none-any.whl (953 kB)\n",
            "\u001b[K     |████████████████████████████████| 953 kB 27.6 MB/s eta 0:00:01\n",
            "\u001b[?25hCollecting pytz~=2023.3\n",
            "  Downloading pytz-2023.4-py2.py3-none-any.whl (506 kB)\n",
            "\u001b[K     |████████████████████████████████| 506 kB 28.4 MB/s eta 0:00:01\n",
            "\u001b[?25hCollecting crcmod>=1.7\n",
            "  Downloading crcmod-1.7.tar.gz (89 kB)\n",
            "\u001b[K     |████████████████████████████████| 89 kB 16.5 MB/s eta 0:00:01\n",
            "\u001b[?25hCollecting aliyun-python-sdk-kms>=2.4.1\n",
            "  Downloading aliyun_python_sdk_kms-2.16.5-py2.py3-none-any.whl (99 kB)\n",
            "\u001b[K     |████████████████████████████████| 99 kB 17.4 MB/s eta 0:00:01\n",
            "\u001b[?25hCollecting aliyun-python-sdk-core>=2.13.12\n",
            "  Downloading aliyun-python-sdk-core-2.16.0.tar.gz (449 kB)\n",
            "\u001b[K     |████████████████████████████████| 449 kB 26.0 MB/s eta 0:00:01\n",
            "\u001b[?25hRequirement already satisfied: six in /home/akshay/.local/lib/python3.7/site-packages (from oss2~=2.17.0->openxlab->opendatalab->openmim) (1.16.0)\n",
            "Collecting jmespath<1.0.0,>=0.9.3\n",
            "  Downloading jmespath-0.10.0-py2.py3-none-any.whl (24 kB)\n",
            "Requirement already satisfied: cryptography>=3.0.0 in /home/akshay/.conda/envs/research-work-DAG-DNN/lib/python3.7/site-packages (from aliyun-python-sdk-core>=2.13.12->oss2~=2.17.0->openxlab->opendatalab->openmim) (3.4.8)\n",
            "Requirement already satisfied: cffi>=1.12 in /home/akshay/.conda/envs/research-work-DAG-DNN/lib/python3.7/site-packages (from cryptography>=3.0.0->aliyun-python-sdk-core>=2.13.12->oss2~=2.17.0->openxlab->opendatalab->openmim) (1.15.0)\n",
            "Requirement already satisfied: pycparser in /home/akshay/.conda/envs/research-work-DAG-DNN/lib/python3.7/site-packages (from cffi>=1.12->cryptography>=3.0.0->aliyun-python-sdk-core>=2.13.12->oss2~=2.17.0->openxlab->opendatalab->openmim) (2.21)\n",
            "Requirement already satisfied: python-dateutil>=2.7.3 in /home/akshay/.local/lib/python3.7/site-packages (from pandas->openmim) (2.9.0.post0)\n",
            "Requirement already satisfied: numpy>=1.17.3 in /home/akshay/.conda/envs/research-work-DAG-DNN/lib/python3.7/site-packages (from pandas->openmim) (1.21.5)\n",
            "Collecting markdown-it-py>=2.2.0\n",
            "  Downloading markdown_it_py-2.2.0-py3-none-any.whl (84 kB)\n",
            "\u001b[K     |████████████████████████████████| 84 kB 6.2 MB/s  eta 0:00:01\n",
            "\u001b[?25hRequirement already satisfied: pygments<3.0.0,>=2.13.0 in /home/akshay/.local/lib/python3.7/site-packages (from rich->openmim) (2.17.2)\n",
            "Collecting mdurl~=0.1\n",
            "  Downloading mdurl-0.1.2-py3-none-any.whl (10.0 kB)\n",
            "Building wheels for collected packages: oss2, aliyun-python-sdk-core, crcmod\n",
            "  Building wheel for oss2 (setup.py) ... \u001b[?25ldone\n",
            "\u001b[?25h  Created wheel for oss2: filename=oss2-2.17.0-py3-none-any.whl size=112375 sha256=eae052e9dedd82b9df20caa43ff9addce43aec86d39f7dc8c2ba0b401b22b23b\n",
            "  Stored in directory: /home/akshay/.cache/pip/wheels/02/ee/14/ae006e5f19929917bb138de44d7b26f9c1e962fcd5d96d196e\n",
            "  Building wheel for aliyun-python-sdk-core (setup.py) ... \u001b[?25ldone\n",
            "\u001b[?25h  Created wheel for aliyun-python-sdk-core: filename=aliyun_python_sdk_core-2.16.0-py3-none-any.whl size=535328 sha256=8cefa6b37ccc44a3c581971016de956dc7134da7c5c4f396bc34b86ba8ea00d1\n",
            "  Stored in directory: /home/akshay/.cache/pip/wheels/c5/f7/24/bc282b663cde3f64ad3772d7b8279520b67220730a1a718409\n",
            "  Building wheel for crcmod (setup.py) ... \u001b[?25ldone\n",
            "\u001b[?25h  Created wheel for crcmod: filename=crcmod-1.7-cp37-cp37m-linux_x86_64.whl size=31081 sha256=3a47b579a220895a4eee942f604b1f24ec67385324b707a5795d3242a9364d12\n",
            "  Stored in directory: /home/akshay/.cache/pip/wheels/dc/9a/e9/49e627353476cec8484343c4ab656f1e0d783ee77b9dde2d1f\n",
            "Successfully built oss2 aliyun-python-sdk-core crcmod\n",
            "Installing collected packages: jmespath, aliyun-python-sdk-core, requests, pycryptodome, mdurl, crcmod, aliyun-python-sdk-kms, tqdm, setuptools, pytz, oss2, markdown-it-py, rich, ordered-set, openxlab, tabulate, opendatalab, model-index, openmim\n",
            "  Attempting uninstall: requests\n",
            "    Found existing installation: requests 2.28.0\n",
            "    Uninstalling requests-2.28.0:\n",
            "      Successfully uninstalled requests-2.28.0\n",
            "  Attempting uninstall: tqdm\n",
            "    Found existing installation: tqdm 4.64.0\n",
            "    Uninstalling tqdm-4.64.0:\n",
            "      Successfully uninstalled tqdm-4.64.0\n",
            "  Attempting uninstall: setuptools\n",
            "    Found existing installation: setuptools 68.0.0\n",
            "    Uninstalling setuptools-68.0.0:\n",
            "      Successfully uninstalled setuptools-68.0.0\n",
            "  Attempting uninstall: pytz\n",
            "    Found existing installation: pytz 2022.1\n",
            "    Uninstalling pytz-2022.1:\n",
            "      Successfully uninstalled pytz-2022.1\n",
            "Successfully installed aliyun-python-sdk-core-2.16.0 aliyun-python-sdk-kms-2.16.5 crcmod-1.7 jmespath-0.10.0 markdown-it-py-2.2.0 mdurl-0.1.2 model-index-0.1.11 opendatalab-0.0.10 openmim-0.3.9 openxlab-0.0.10 ordered-set-4.1.0 oss2-2.17.0 pycryptodome-3.21.0 pytz-2023.4 requests-2.28.2 rich-13.8.1 setuptools-61.2.0 tabulate-0.9.0 tqdm-4.65.2\n",
            "Looking in links: https://download.openmmlab.com/mmcv/dist/cu111/torch1.10.0/index.html\n",
            "Collecting mmengine\n",
            "  Downloading mmengine-0.10.5-py3-none-any.whl (452 kB)\n",
            "\u001b[K     |████████████████████████████████| 452 kB 3.4 MB/s eta 0:00:01\n",
            "\u001b[?25hRequirement already satisfied: pyyaml in /home/akshay/.conda/envs/research-work-DAG-DNN/lib/python3.7/site-packages (from mmengine) (6.0)\n",
            "Requirement already satisfied: opencv-python>=3 in /home/akshay/.conda/envs/research-work-DAG-DNN/lib/python3.7/site-packages (from mmengine) (4.6.0.66)\n",
            "Requirement already satisfied: termcolor in /home/akshay/.conda/envs/research-work-DAG-DNN/lib/python3.7/site-packages (from mmengine) (1.1.0)\n",
            "Requirement already satisfied: matplotlib in /home/akshay/.conda/envs/research-work-DAG-DNN/lib/python3.7/site-packages (from mmengine) (3.5.2)\n",
            "Collecting addict\n",
            "  Downloading addict-2.4.0-py3-none-any.whl (3.8 kB)\n",
            "Collecting yapf\n",
            "  Downloading yapf-0.43.0-py3-none-any.whl (256 kB)\n",
            "\u001b[K     |████████████████████████████████| 256 kB 4.2 MB/s eta 0:00:01\n",
            "\u001b[?25hRequirement already satisfied: rich in /home/akshay/.conda/envs/research-work-DAG-DNN/lib/python3.7/site-packages (from mmengine) (13.8.1)\n",
            "Requirement already satisfied: numpy in /home/akshay/.conda/envs/research-work-DAG-DNN/lib/python3.7/site-packages (from mmengine) (1.21.5)\n",
            "Requirement already satisfied: packaging>=20.0 in /home/akshay/.local/lib/python3.7/site-packages (from matplotlib->mmengine) (24.0)\n",
            "Requirement already satisfied: fonttools>=4.22.0 in /home/akshay/.conda/envs/research-work-DAG-DNN/lib/python3.7/site-packages (from matplotlib->mmengine) (4.25.0)\n",
            "Requirement already satisfied: python-dateutil>=2.7 in /home/akshay/.local/lib/python3.7/site-packages (from matplotlib->mmengine) (2.9.0.post0)\n",
            "Requirement already satisfied: pillow>=6.2.0 in /home/akshay/.conda/envs/research-work-DAG-DNN/lib/python3.7/site-packages (from matplotlib->mmengine) (9.0.1)\n",
            "Requirement already satisfied: pyparsing>=2.2.1 in /home/akshay/.conda/envs/research-work-DAG-DNN/lib/python3.7/site-packages (from matplotlib->mmengine) (3.0.4)\n",
            "Requirement already satisfied: kiwisolver>=1.0.1 in /home/akshay/.conda/envs/research-work-DAG-DNN/lib/python3.7/site-packages (from matplotlib->mmengine) (1.4.2)\n",
            "Requirement already satisfied: cycler>=0.10 in /home/akshay/.conda/envs/research-work-DAG-DNN/lib/python3.7/site-packages (from matplotlib->mmengine) (0.11.0)\n",
            "Requirement already satisfied: typing-extensions in /home/akshay/.conda/envs/research-work-DAG-DNN/lib/python3.7/site-packages (from kiwisolver>=1.0.1->matplotlib->mmengine) (4.4.0)\n",
            "Requirement already satisfied: six>=1.5 in /home/akshay/.local/lib/python3.7/site-packages (from python-dateutil>=2.7->matplotlib->mmengine) (1.16.0)\n",
            "Requirement already satisfied: pygments<3.0.0,>=2.13.0 in /home/akshay/.local/lib/python3.7/site-packages (from rich->mmengine) (2.17.2)\n",
            "Requirement already satisfied: markdown-it-py>=2.2.0 in /home/akshay/.conda/envs/research-work-DAG-DNN/lib/python3.7/site-packages (from rich->mmengine) (2.2.0)\n",
            "Requirement already satisfied: mdurl~=0.1 in /home/akshay/.conda/envs/research-work-DAG-DNN/lib/python3.7/site-packages (from markdown-it-py>=2.2.0->rich->mmengine) (0.1.2)\n",
            "Collecting tomli>=2.0.1\n",
            "  Downloading tomli-2.0.1-py3-none-any.whl (12 kB)\n",
            "Collecting platformdirs>=3.5.1\n",
            "  Downloading platformdirs-4.0.0-py3-none-any.whl (17 kB)\n",
            "Collecting typing-extensions\n",
            "  Downloading typing_extensions-4.7.1-py3-none-any.whl (33 kB)\n",
            "Installing collected packages: typing-extensions, tomli, platformdirs, yapf, addict, mmengine\n",
            "  Attempting uninstall: typing-extensions\n",
            "    Found existing installation: typing-extensions 4.4.0\n",
            "    Uninstalling typing-extensions-4.4.0:\n",
            "      Successfully uninstalled typing-extensions-4.4.0\n",
            "\u001b[31mERROR: pip's dependency resolver does not currently take into account all the packages that are installed. This behaviour is the source of the following dependency conflicts.\n",
            "wasabi 1.1.2 requires typing-extensions<4.5.0,>=3.7.4.1; python_version < \"3.8\", but you have typing-extensions 4.7.1 which is incompatible.\n",
            "thinc 8.2.3 requires typing-extensions<4.5.0,>=3.7.4.1; python_version < \"3.8\", but you have typing-extensions 4.7.1 which is incompatible.\n",
            "tensorflow 2.4.1 requires absl-py~=0.10, but you have absl-py 1.4.0 which is incompatible.\n",
            "tensorflow 2.4.1 requires flatbuffers~=1.12.0, but you have flatbuffers 2.0 which is incompatible.\n",
            "tensorflow 2.4.1 requires gast==0.3.3, but you have gast 0.3.2 which is incompatible.\n",
            "tensorflow 2.4.1 requires grpcio~=1.32.0, but you have grpcio 1.42.0 which is incompatible.\n",
            "tensorflow 2.4.1 requires numpy~=1.19.2, but you have numpy 1.21.5 which is incompatible.\n",
            "tensorflow 2.4.1 requires six~=1.15.0, but you have six 1.16.0 which is incompatible.\n",
            "tensorflow 2.4.1 requires tensorflow-estimator<2.5.0,>=2.4.0, but you have tensorflow-estimator 2.6.0 which is incompatible.\n",
            "tensorflow 2.4.1 requires typing-extensions~=3.7.4, but you have typing-extensions 4.7.1 which is incompatible.\n",
            "tensorflow 2.4.1 requires wrapt~=1.12.1, but you have wrapt 1.13.3 which is incompatible.\n",
            "spacy 3.7.4 requires typing-extensions<4.5.0,>=3.7.4.1; python_version < \"3.8\", but you have typing-extensions 4.7.1 which is incompatible.\n",
            "confection 0.1.4 requires typing-extensions<4.5.0,>=3.7.4.1; python_version < \"3.8\", but you have typing-extensions 4.7.1 which is incompatible.\u001b[0m\n",
            "Successfully installed addict-2.4.0 mmengine-0.10.5 platformdirs-4.0.0 tomli-2.0.1 typing-extensions-4.7.1 yapf-0.43.0\n",
            "Looking in links: https://download.openmmlab.com/mmcv/dist/cu111/torch1.10.0/index.html\n",
            "Collecting mmcv>=2.0.0\n",
            "  Downloading https://download.openmmlab.com/mmcv/dist/cu111/torch1.10.0/mmcv-2.2.0-cp37-cp37m-manylinux1_x86_64.whl (78.6 MB)\n",
            "\u001b[K     |████████████████████████████████| 78.6 MB 2.7 MB/s eta 0:00:01\n",
            "\u001b[?25hRequirement already satisfied: Pillow in /home/akshay/.conda/envs/research-work-DAG-DNN/lib/python3.7/site-packages (from mmcv>=2.0.0) (9.0.1)\n",
            "Requirement already satisfied: opencv-python>=3 in /home/akshay/.conda/envs/research-work-DAG-DNN/lib/python3.7/site-packages (from mmcv>=2.0.0) (4.6.0.66)\n",
            "Requirement already satisfied: pyyaml in /home/akshay/.conda/envs/research-work-DAG-DNN/lib/python3.7/site-packages (from mmcv>=2.0.0) (6.0)\n",
            "Requirement already satisfied: addict in /home/akshay/.conda/envs/research-work-DAG-DNN/lib/python3.7/site-packages (from mmcv>=2.0.0) (2.4.0)\n",
            "Requirement already satisfied: packaging in /home/akshay/.local/lib/python3.7/site-packages (from mmcv>=2.0.0) (24.0)\n",
            "Requirement already satisfied: yapf in /home/akshay/.conda/envs/research-work-DAG-DNN/lib/python3.7/site-packages (from mmcv>=2.0.0) (0.43.0)\n",
            "Requirement already satisfied: numpy in /home/akshay/.conda/envs/research-work-DAG-DNN/lib/python3.7/site-packages (from mmcv>=2.0.0) (1.21.5)\n",
            "Requirement already satisfied: mmengine>=0.3.0 in /home/akshay/.conda/envs/research-work-DAG-DNN/lib/python3.7/site-packages (from mmcv>=2.0.0) (0.10.5)\n",
            "Requirement already satisfied: rich in /home/akshay/.conda/envs/research-work-DAG-DNN/lib/python3.7/site-packages (from mmengine>=0.3.0->mmcv>=2.0.0) (13.8.1)\n",
            "Requirement already satisfied: matplotlib in /home/akshay/.conda/envs/research-work-DAG-DNN/lib/python3.7/site-packages (from mmengine>=0.3.0->mmcv>=2.0.0) (3.5.2)\n",
            "Requirement already satisfied: termcolor in /home/akshay/.conda/envs/research-work-DAG-DNN/lib/python3.7/site-packages (from mmengine>=0.3.0->mmcv>=2.0.0) (1.1.0)\n",
            "Requirement already satisfied: pyparsing>=2.2.1 in /home/akshay/.conda/envs/research-work-DAG-DNN/lib/python3.7/site-packages (from matplotlib->mmengine>=0.3.0->mmcv>=2.0.0) (3.0.4)\n",
            "Requirement already satisfied: kiwisolver>=1.0.1 in /home/akshay/.conda/envs/research-work-DAG-DNN/lib/python3.7/site-packages (from matplotlib->mmengine>=0.3.0->mmcv>=2.0.0) (1.4.2)\n",
            "Requirement already satisfied: python-dateutil>=2.7 in /home/akshay/.local/lib/python3.7/site-packages (from matplotlib->mmengine>=0.3.0->mmcv>=2.0.0) (2.9.0.post0)\n",
            "Requirement already satisfied: cycler>=0.10 in /home/akshay/.conda/envs/research-work-DAG-DNN/lib/python3.7/site-packages (from matplotlib->mmengine>=0.3.0->mmcv>=2.0.0) (0.11.0)\n",
            "Requirement already satisfied: fonttools>=4.22.0 in /home/akshay/.conda/envs/research-work-DAG-DNN/lib/python3.7/site-packages (from matplotlib->mmengine>=0.3.0->mmcv>=2.0.0) (4.25.0)\n",
            "Requirement already satisfied: typing-extensions in /home/akshay/.conda/envs/research-work-DAG-DNN/lib/python3.7/site-packages (from kiwisolver>=1.0.1->matplotlib->mmengine>=0.3.0->mmcv>=2.0.0) (4.7.1)\n",
            "Requirement already satisfied: six>=1.5 in /home/akshay/.local/lib/python3.7/site-packages (from python-dateutil>=2.7->matplotlib->mmengine>=0.3.0->mmcv>=2.0.0) (1.16.0)\n",
            "Requirement already satisfied: pygments<3.0.0,>=2.13.0 in /home/akshay/.local/lib/python3.7/site-packages (from rich->mmengine>=0.3.0->mmcv>=2.0.0) (2.17.2)\n",
            "Requirement already satisfied: markdown-it-py>=2.2.0 in /home/akshay/.conda/envs/research-work-DAG-DNN/lib/python3.7/site-packages (from rich->mmengine>=0.3.0->mmcv>=2.0.0) (2.2.0)\n",
            "Requirement already satisfied: mdurl~=0.1 in /home/akshay/.conda/envs/research-work-DAG-DNN/lib/python3.7/site-packages (from markdown-it-py>=2.2.0->rich->mmengine>=0.3.0->mmcv>=2.0.0) (0.1.2)\n",
            "Requirement already satisfied: platformdirs>=3.5.1 in /home/akshay/.conda/envs/research-work-DAG-DNN/lib/python3.7/site-packages (from yapf->mmcv>=2.0.0) (4.0.0)\n",
            "Requirement already satisfied: tomli>=2.0.1 in /home/akshay/.conda/envs/research-work-DAG-DNN/lib/python3.7/site-packages (from yapf->mmcv>=2.0.0) (2.0.1)\n",
            "Installing collected packages: mmcv\n",
            "Successfully installed mmcv-2.2.0\n"
          ]
        }
      ],
      "source": [
        "!pip install -U openmim\n",
        "!mim install mmengine\n",
        "!mim install \"mmcv>=2.0.0\""
      ]
    },
    {
      "cell_type": "code",
      "execution_count": 12,
      "metadata": {},
      "outputs": [
        {
          "name": "stdout",
          "output_type": "stream",
          "text": [
            "Collecting mmsegmentation\n",
            "  Downloading mmsegmentation-1.2.2-py3-none-any.whl (2.4 MB)\n",
            "\u001b[K     |████████████████████████████████| 2.4 MB 3.3 MB/s eta 0:00:01\n",
            "\u001b[?25hCollecting prettytable\n",
            "  Downloading prettytable-3.7.0-py3-none-any.whl (27 kB)\n",
            "Requirement already satisfied: numpy in /home/akshay/.conda/envs/research-work-DAG-DNN/lib/python3.7/site-packages (from mmsegmentation) (1.21.5)\n",
            "Requirement already satisfied: matplotlib in /home/akshay/.conda/envs/research-work-DAG-DNN/lib/python3.7/site-packages (from mmsegmentation) (3.5.2)\n",
            "Requirement already satisfied: scipy in /home/akshay/.conda/envs/research-work-DAG-DNN/lib/python3.7/site-packages (from mmsegmentation) (1.4.1)\n",
            "Requirement already satisfied: packaging in /home/akshay/.local/lib/python3.7/site-packages (from mmsegmentation) (24.0)\n",
            "Requirement already satisfied: kiwisolver>=1.0.1 in /home/akshay/.conda/envs/research-work-DAG-DNN/lib/python3.7/site-packages (from matplotlib->mmsegmentation) (1.4.2)\n",
            "Requirement already satisfied: pillow>=6.2.0 in /home/akshay/.conda/envs/research-work-DAG-DNN/lib/python3.7/site-packages (from matplotlib->mmsegmentation) (9.0.1)\n",
            "Requirement already satisfied: cycler>=0.10 in /home/akshay/.conda/envs/research-work-DAG-DNN/lib/python3.7/site-packages (from matplotlib->mmsegmentation) (0.11.0)\n",
            "Requirement already satisfied: python-dateutil>=2.7 in /home/akshay/.local/lib/python3.7/site-packages (from matplotlib->mmsegmentation) (2.9.0.post0)\n",
            "Requirement already satisfied: pyparsing>=2.2.1 in /home/akshay/.conda/envs/research-work-DAG-DNN/lib/python3.7/site-packages (from matplotlib->mmsegmentation) (3.0.4)\n",
            "Requirement already satisfied: fonttools>=4.22.0 in /home/akshay/.conda/envs/research-work-DAG-DNN/lib/python3.7/site-packages (from matplotlib->mmsegmentation) (4.25.0)\n",
            "Requirement already satisfied: typing-extensions in /home/akshay/.conda/envs/research-work-DAG-DNN/lib/python3.7/site-packages (from kiwisolver>=1.0.1->matplotlib->mmsegmentation) (4.7.1)\n",
            "Requirement already satisfied: six>=1.5 in /home/akshay/.local/lib/python3.7/site-packages (from python-dateutil>=2.7->matplotlib->mmsegmentation) (1.16.0)\n",
            "Requirement already satisfied: wcwidth in /home/akshay/.local/lib/python3.7/site-packages (from prettytable->mmsegmentation) (0.2.13)\n",
            "Requirement already satisfied: importlib-metadata in /home/akshay/.conda/envs/research-work-DAG-DNN/lib/python3.7/site-packages (from prettytable->mmsegmentation) (4.11.3)\n",
            "Requirement already satisfied: zipp>=0.5 in /home/akshay/.conda/envs/research-work-DAG-DNN/lib/python3.7/site-packages (from importlib-metadata->prettytable->mmsegmentation) (3.8.0)\n",
            "Installing collected packages: prettytable, mmsegmentation\n",
            "Successfully installed mmsegmentation-1.2.2 prettytable-3.7.0\n"
          ]
        }
      ],
      "source": [
        "!pip install mmsegmentation"
      ]
    },
    {
      "cell_type": "code",
      "execution_count": 13,
      "metadata": {
        "_cell_guid": "b1076dfc-b9ad-4769-8c92-a6c4dae69d19",
        "_kg_hide-output": true,
        "_uuid": "8f2839f25d086af736a60e9eeb907d3b93b6e0e5",
        "execution": {
          "iopub.execute_input": "2024-03-14T14:30:36.317271Z",
          "iopub.status.busy": "2024-03-14T14:30:36.316943Z",
          "iopub.status.idle": "2024-03-14T14:30:56.470748Z",
          "shell.execute_reply": "2024-03-14T14:30:56.469668Z",
          "shell.execute_reply.started": "2024-03-14T14:30:36.317243Z"
        },
        "id": "1S4GxwIcKPNY",
        "trusted": true
      },
      "outputs": [],
      "source": [
        "# Installing Segmentation Models for SegFormer, Loss functions and Metrics\n",
        "# !pip install -U segmentation-models-pytorch"
      ]
    },
    {
      "cell_type": "code",
      "execution_count": 8,
      "metadata": {},
      "outputs": [],
      "source": [
        "# !pip install -U skimage"
      ]
    },
    {
      "cell_type": "code",
      "execution_count": 1,
      "metadata": {},
      "outputs": [],
      "source": [
        "datadir = \"./data/car-parts-and-car-damages/\""
      ]
    },
    {
      "cell_type": "markdown",
      "metadata": {
        "id": "XxDuhApuKPNa"
      },
      "source": [
        "## Intializing Libraries"
      ]
    },
    {
      "cell_type": "code",
      "execution_count": 5,
      "metadata": {
        "execution": {
          "iopub.execute_input": "2024-03-14T19:09:54.066311Z",
          "iopub.status.busy": "2024-03-14T19:09:54.065413Z",
          "iopub.status.idle": "2024-03-14T19:09:54.074066Z",
          "shell.execute_reply": "2024-03-14T19:09:54.073051Z",
          "shell.execute_reply.started": "2024-03-14T19:09:54.066275Z"
        },
        "id": "PJ5yHmVsKPNc",
        "trusted": true
      },
      "outputs": [],
      "source": [
        "import zipfile\n",
        "import random\n",
        "import os\n",
        "import json\n",
        "import numpy as np\n",
        "import cv2\n",
        "from sklearn.metrics import f1_score, roc_auc_score\n",
        "import torchvision\n",
        "import torch\n",
        "from torchvision.io import read_image\n",
        "import matplotlib.pyplot as plt\n",
        "from PIL import Image,ImageColor\n",
        "from tqdm import tqdm\n",
        "from torch.utils.data import DataLoader,Dataset\n",
        "from torchvision.io import read_image\n",
        "from torchvision.ops.boxes import masks_to_boxes\n",
        "# from torchvision import tv_tensors\n",
        "# from torchvision.transforms.v2 import functional as F\n",
        "# from skimage.draw import polygon\n",
        "from torchvision import transforms\n",
        "from torch import nn\n",
        "from segmentation_models_pytorch import MAnet\n",
        "from  segmentation_models_pytorch.losses import DiceLoss,JaccardLoss\n",
        "from segmentation_models_pytorch.metrics import get_stats,iou_score,f1_score"
      ]
    },
    {
      "cell_type": "code",
      "execution_count": 3,
      "metadata": {
        "execution": {
          "iopub.execute_input": "2024-03-14T14:31:26.878904Z",
          "iopub.status.busy": "2024-03-14T14:31:26.87862Z",
          "iopub.status.idle": "2024-03-14T14:31:26.88332Z",
          "shell.execute_reply": "2024-03-14T14:31:26.882497Z",
          "shell.execute_reply.started": "2024-03-14T14:31:26.87888Z"
        },
        "id": "n4hluvBDKPNd",
        "trusted": true
      },
      "outputs": [],
      "source": [
        "# Declaring folder paths for images and masks\n",
        "carparts_dir = datadir+\"/Car_parts_dataset/\"\n",
        "cardamages_dir = datadir+\"/Car_damages_dataset/\"\n",
        "carparts_imgs = carparts_dir+\"/File1/img/\"\n",
        "carparts_anns = carparts_dir+\"/File1/ann/\"\n",
        "cardamages_imgs = cardamages_dir+\"/File1/img/\"\n",
        "cardamages_anns = cardamages_dir+\"/File1/ann/\"\n",
        "# sizes=(320,320)"
      ]
    },
    {
      "cell_type": "markdown",
      "metadata": {
        "id": "_AwMJ7qRKPNe"
      },
      "source": [
        "## Methods and Classes Initializations"
      ]
    },
    {
      "cell_type": "code",
      "execution_count": 4,
      "metadata": {
        "execution": {
          "iopub.execute_input": "2024-03-14T14:31:26.885186Z",
          "iopub.status.busy": "2024-03-14T14:31:26.884827Z",
          "iopub.status.idle": "2024-03-14T14:31:26.902845Z",
          "shell.execute_reply": "2024-03-14T14:31:26.902049Z",
          "shell.execute_reply.started": "2024-03-14T14:31:26.885132Z"
        },
        "id": "mrg4xbsyKPNf",
        "trusted": true
      },
      "outputs": [],
      "source": [
        "# Retrieving Classes and Ids from Meta Data\n",
        "def retrieve_meta_data(path=carparts_dir+\"/meta.json\"):\n",
        "\n",
        "    MetaJson = json.load(open(path,\"r\"))\n",
        "    classes_carprts = []\n",
        "    associated_colors_carprts = []\n",
        "    for cls in MetaJson[\"classes\"]:\n",
        "        classes_carprts.append(cls[\"title\"])\n",
        "        associated_colors_carprts.append(cls['id'])\n",
        "    return classes_carprts,associated_colors_carprts"
      ]
    },
    {
      "cell_type": "code",
      "execution_count": 9,
      "metadata": {
        "execution": {
          "iopub.execute_input": "2024-03-14T14:31:26.905322Z",
          "iopub.status.busy": "2024-03-14T14:31:26.905001Z",
          "iopub.status.idle": "2024-03-14T14:31:26.920203Z",
          "shell.execute_reply": "2024-03-14T14:31:26.919422Z",
          "shell.execute_reply.started": "2024-03-14T14:31:26.905287Z"
        },
        "id": "9onv8qHBKPNg",
        "trusted": true
      },
      "outputs": [],
      "source": [
        "# Dataset Class for Loading Car Parts or Car Damages Datasets\n",
        "class CarDataLoader(Dataset):\n",
        "    def __init__(self,transforms,imgs_path,annotations_path,classes,sizes):\n",
        "        \"\"\"\n",
        "        Initialize Dataset class with Car Parts or Car Damages Datasets\n",
        "        transforms -> Transformations\n",
        "        imgs_path -> Path for Images\n",
        "        annotaions_path -> Path for Annotations\n",
        "        classes - > List of Classes\n",
        "        sizes -> Tuple of Height and Width\n",
        "\n",
        "        \"\"\"\n",
        "        self.imgs_path =imgs_path\n",
        "        self.annotations_path = annotations_path\n",
        "        self.classes = classes\n",
        "        self.images = list(sorted(os.listdir(imgs_path)))\n",
        "        self.annotations = [x+\".json\" for x in self.images]\n",
        "        self.transforms = transforms\n",
        "        self.sizes = sizes\n",
        "\n",
        "    def getMask(sizes,annfile,classes):\n",
        "        \"\"\"\n",
        "        Get Masks After Processing and Stacking multiple label channels\n",
        "        sizes -> Tuples of Height and Width\n",
        "        annfile -> Annotations file of image\n",
        "        classes -> List of Class ids\n",
        "        \"\"\"\n",
        "        img_height,img_width = annfile[\"size\"][\"height\"],annfile[\"size\"][\"width\"]\n",
        "        mask = torch.zeros((img_height,img_width),dtype=torch.long)\n",
        "        mask_numpy = mask.numpy()\n",
        "        class_ids =[]\n",
        "        for object_ in annfile[\"objects\"]:\n",
        "            class_id = classes.index(object_[\"classId\"])\n",
        "            class_ids.append(class_id)\n",
        "            polygon_ = []\n",
        "            for i in object_[\"points\"][\"exterior\"]:\n",
        "                polygon_.append(i)\n",
        "            polygon_ = np.asarray(polygon_)\n",
        "            x_,y_ = polygon(polygon_[:,0],polygon_[:,1],(annfile[\"size\"][\"width\"],annfile[\"size\"][\"height\"]))\n",
        "            mask_numpy[y_,x_] = class_id+1\n",
        "\n",
        "        mask_tensor = transforms.Resize(sizes)(torch.from_numpy(mask_numpy).unsqueeze(0)).squeeze(1)\n",
        "        mask_numpy = mask_tensor.numpy()\n",
        "        masks = [(mask_numpy  == class_id) for class_id in range(len(classes)+1)]\n",
        "        masks_numpy = np.stack(masks,axis=-1).astype('int')\n",
        "        return masks_numpy\n",
        "\n",
        "\n",
        "    def __getitem__(self,idx):\n",
        "        \"\"\"\n",
        "        Iterate through the Dataset\n",
        "\n",
        "        idx -> Index of the Data\n",
        "        \"\"\"\n",
        "        img_path = os.path.join(self.imgs_path, self.images[idx])\n",
        "        ann_path = os.path.join(self.annotations_path, self.annotations[idx])\n",
        "        img = Image.open(img_path)\n",
        "        ann = json.load(open(ann_path,\"r\"))\n",
        "\n",
        "        annotated_mask = CarDataLoader.getMask(self.sizes,ann,self.classes)\n",
        "        img_tensor = self.transforms(img)[:3,:,:]\n",
        "        mask_tensor = torch.from_numpy(annotated_mask).permute(0,-1,1,2)\n",
        "\n",
        "        return img_tensor,mask_tensor\n",
        "    def __len__(self):\n",
        "        \"\"\"\n",
        "        Invoked on len() method returns length\n",
        "        \"\"\"\n",
        "        return len(self.images)"
      ]
    },
    {
      "cell_type": "code",
      "execution_count": null,
      "metadata": {
        "id": "zO94UMtzKPNi"
      },
      "outputs": [],
      "source": [
        "def TrainandValidate(model,optim,criterion,dataloader,learning_rate,epochs,checkpointName,classes,checkpoint=True):\n",
        "    \"\"\"\n",
        "    For training and Validating Segmentation models\n",
        "    model [nn.Module]  ->   Model to Train\n",
        "    optim     ->     Optimizer\n",
        "    criterion -> Loss Function\n",
        "    dataloader -> Batch loader object for Dataset\n",
        "    learning_rate -> Learning rate parameter for model training\n",
        "    epochs -> Number of epochs or Iterations\n",
        "    Checkpoint Name -> Save Model Checkpoints at an Interval with Name\n",
        "    Classes -> List of Class Ids\n",
        "    \"\"\"\n",
        "    for epoch in range(epochs):\n",
        "        # Initiate TQDM for Progress\n",
        "        loop = tqdm(enumerate(dataloader), total=len(dataloader))  # Progress bar\n",
        "        # for Every Image and Mask as data and targets over Batch ID\n",
        "        for batch_idx, (data, targets) in loop:\n",
        "            # Training Mode\n",
        "            if batch_idx +5 < len(dataloader):\n",
        "                model.train()\n",
        "                # Squeeze or Remove batch size generated by stacking and Tensor COnversion\n",
        "                targets = targets.squeeze(1)\n",
        "                # Add Data and Targets to CUDA\n",
        "                data, targets = data.to(device), targets.to(device)\n",
        "\n",
        "                # Forward pass Data to the Model\n",
        "                outputs = model(data)\n",
        "\n",
        "                # Confusion Matrix Data for Intersection Over Union Calculation\n",
        "                # Get Stats method from Segmentation Models returns tp,tn,fp,fn values for calculations over Multi Label (Multi CHannel Masks)\n",
        "                # Threshold of 0.5 acts as activation.\n",
        "                tp, fp, fn, tn = get_stats(outputs.int(), targets.int(), mode=\"multilabel\",threshold=0.5)\n",
        "\n",
        "                # IOU = TP / (TP+FP+FN) then Average over all channels\n",
        "                iouscore = iou_score(tp, fp, fn, tn, reduction=\"micro\")\n",
        "\n",
        "                # Loss Calculation through Dice Loss or Jacard Loss\n",
        "                loss = criterion(outputs, targets)\n",
        "\n",
        "                # Zero Gradients so they dont accumulate over Iterations\n",
        "                optimizer.zero_grad()\n",
        "                # Back Propagating Loss for Model Corrections\n",
        "                loss.backward()\n",
        "                # Stepping the Optimizer to Optimize the Model Parameters\n",
        "                optimizer.step()\n",
        "                # Set Descriptions\n",
        "                loop.set_description(f'Epoch {epoch+1}/{epochs}')\n",
        "                loop.set_postfix(loss=loss.item(),iou_score = iouscore.item())\n",
        "\n",
        "            else:\n",
        "                model.eval()\n",
        "                targets = targets.squeeze(1)\n",
        "                data, targets = data.to(device), targets.to(device)\n",
        "\n",
        "                # Forward Pass\n",
        "                outputs = model(data)\n",
        "                tp, fp, fn, tn = get_stats(outputs.int(), targets.int(), mode='multilabel',threshold=0.5)\n",
        "                iouscore = iou_score(tp, fp, fn, tn, reduction=\"micro\")\n",
        "\n",
        "                # Loss Calculation\n",
        "                loss = criterion(outputs, targets.long())  # Ensure targets are long type\n",
        "\n",
        "                print(f\" Epoch under Validation {batch_idx}, Loss: {loss.item()}, IOUScore {iouscore.item()}\")\n",
        "                #loop.set_description(f'Epoch {epoch+1}/{epochs}')\n",
        "                #loop.set_postfix(loss=loss.item(),iou_score = iouscore.item())\n",
        "        if epoch%10 == 0:\n",
        "            # Save Checkpoint\n",
        "            torch.save({\n",
        "                    'epoch': epoch + 1,\n",
        "                    'model_state_dict': model.state_dict(),\n",
        "                    'optimizer_state_dict': optimizer.state_dict(),\n",
        "                    'loss': loss,\n",
        "                'iou_score': iou_score\n",
        "                    }, f\"checkpoint_{checkpointName}{epoch+1}.pth\")"
      ]
    },
    {
      "cell_type": "code",
      "execution_count": null,
      "metadata": {
        "id": "zRxKO92jKPNk"
      },
      "outputs": [],
      "source": [
        "def visualizeImageandMasks(image,output,target):\n",
        "\n",
        "    col = 3\n",
        "    row = 1\n",
        "    fig, ax = plt.subplots(row,col)\n",
        "    ax[0].imshow(image)\n",
        "    ax[0].set_title(\"Image\")\n",
        "    ax[1].imshow(output)\n",
        "    ax[1].set_title(\"Output\")\n",
        "    ax[2].imshow(target)\n",
        "    ax[2].set_title(\"Target\")\n",
        "    plt.show()"
      ]
    },
    {
      "cell_type": "markdown",
      "metadata": {
        "id": "37QhAjAhKPNl"
      },
      "source": [
        "## Car Parts Segmentation"
      ]
    },
    {
      "cell_type": "code",
      "execution_count": null,
      "metadata": {
        "execution": {
          "iopub.execute_input": "2024-03-14T14:31:26.921449Z",
          "iopub.status.busy": "2024-03-14T14:31:26.921178Z",
          "iopub.status.idle": "2024-03-14T14:31:26.969676Z",
          "shell.execute_reply": "2024-03-14T14:31:26.968983Z",
          "shell.execute_reply.started": "2024-03-14T14:31:26.921419Z"
        },
        "id": "ebeQeVt-KPNl",
        "trusted": true
      },
      "outputs": [],
      "source": [
        "CarPartsClasses,CarPartsClasses_ID = retrieve_meta_data(\"/kaggle/input/car-parts-and-car-damages/Car damages dataset/meta.json\")"
      ]
    },
    {
      "cell_type": "code",
      "execution_count": null,
      "metadata": {
        "execution": {
          "iopub.execute_input": "2024-03-14T14:31:26.970848Z",
          "iopub.status.busy": "2024-03-14T14:31:26.970594Z",
          "iopub.status.idle": "2024-03-14T14:31:26.975314Z",
          "shell.execute_reply": "2024-03-14T14:31:26.974303Z",
          "shell.execute_reply.started": "2024-03-14T14:31:26.970826Z"
        },
        "id": "3UfbCNaCKPNm",
        "trusted": true
      },
      "outputs": [],
      "source": [
        "transform = transforms.Compose([transforms.Resize(sizes),\n",
        "    transforms.ToTensor()])\n"
      ]
    },
    {
      "cell_type": "code",
      "execution_count": null,
      "metadata": {
        "execution": {
          "iopub.execute_input": "2024-03-14T14:31:26.977217Z",
          "iopub.status.busy": "2024-03-14T14:31:26.976893Z",
          "iopub.status.idle": "2024-03-14T14:31:27.560525Z",
          "shell.execute_reply": "2024-03-14T14:31:27.559552Z",
          "shell.execute_reply.started": "2024-03-14T14:31:26.977188Z"
        },
        "id": "c68HMYeAKPNn",
        "trusted": true
      },
      "outputs": [],
      "source": [
        "CarPartsData =  CarDataLoader(transform,carparts_imgs,carparts_anns,CarPartsClasses_ID,sizes)"
      ]
    },
    {
      "cell_type": "code",
      "execution_count": null,
      "metadata": {
        "execution": {
          "iopub.execute_input": "2024-03-14T18:40:05.933072Z",
          "iopub.status.busy": "2024-03-14T18:40:05.932652Z",
          "iopub.status.idle": "2024-03-14T18:40:06.017887Z",
          "shell.execute_reply": "2024-03-14T18:40:06.016935Z",
          "shell.execute_reply.started": "2024-03-14T18:40:05.933039Z"
        },
        "id": "QGQDDwo5KPNn",
        "trusted": true
      },
      "outputs": [],
      "source": [
        "image,mask = CarPartsData[0]"
      ]
    },
    {
      "cell_type": "code",
      "execution_count": null,
      "metadata": {
        "execution": {
          "iopub.execute_input": "2024-03-14T18:40:07.025017Z",
          "iopub.status.busy": "2024-03-14T18:40:07.024299Z",
          "iopub.status.idle": "2024-03-14T18:40:07.305514Z",
          "shell.execute_reply": "2024-03-14T18:40:07.304564Z",
          "shell.execute_reply.started": "2024-03-14T18:40:07.024983Z"
        },
        "id": "KHOAlYBUKPNo",
        "trusted": true
      },
      "outputs": [],
      "source": [
        "plt.imshow(image.permute(1,2,0))"
      ]
    },
    {
      "cell_type": "code",
      "execution_count": null,
      "metadata": {
        "execution": {
          "iopub.execute_input": "2024-03-14T14:31:28.115606Z",
          "iopub.status.busy": "2024-03-14T14:31:28.115256Z",
          "iopub.status.idle": "2024-03-14T14:31:28.121513Z",
          "shell.execute_reply": "2024-03-14T14:31:28.120575Z",
          "shell.execute_reply.started": "2024-03-14T14:31:28.115563Z"
        },
        "id": "Bi9oaaQ8KPNo",
        "trusted": true
      },
      "outputs": [],
      "source": [
        "mask.shape"
      ]
    },
    {
      "cell_type": "code",
      "execution_count": null,
      "metadata": {
        "execution": {
          "iopub.execute_input": "2024-03-14T18:40:37.579423Z",
          "iopub.status.busy": "2024-03-14T18:40:37.578439Z",
          "iopub.status.idle": "2024-03-14T18:40:37.787829Z",
          "shell.execute_reply": "2024-03-14T18:40:37.786925Z",
          "shell.execute_reply.started": "2024-03-14T18:40:37.579388Z"
        },
        "id": "7LnlNcsjKPNo",
        "trusted": true
      },
      "outputs": [],
      "source": [
        "plt.imshow(mask.squeeze(0).argmax(dim=0))"
      ]
    },
    {
      "cell_type": "code",
      "execution_count": null,
      "metadata": {
        "execution": {
          "iopub.execute_input": "2024-03-14T14:31:31.659849Z",
          "iopub.status.busy": "2024-03-14T14:31:31.65945Z",
          "iopub.status.idle": "2024-03-14T14:31:31.711779Z",
          "shell.execute_reply": "2024-03-14T14:31:31.710823Z",
          "shell.execute_reply.started": "2024-03-14T14:31:31.65982Z"
        },
        "id": "fhsqv6E6KPNp",
        "trusted": true
      },
      "outputs": [],
      "source": [
        "mask.min(),mask.max()"
      ]
    },
    {
      "cell_type": "code",
      "execution_count": null,
      "metadata": {
        "execution": {
          "iopub.execute_input": "2024-03-14T14:31:34.834282Z",
          "iopub.status.busy": "2024-03-14T14:31:34.833622Z",
          "iopub.status.idle": "2024-03-14T14:31:34.839706Z",
          "shell.execute_reply": "2024-03-14T14:31:34.838884Z",
          "shell.execute_reply.started": "2024-03-14T14:31:34.834252Z"
        },
        "id": "lZefPChjKPNp",
        "trusted": true
      },
      "outputs": [],
      "source": [
        "len(CarPartsClasses_ID)+1"
      ]
    },
    {
      "cell_type": "code",
      "execution_count": null,
      "metadata": {
        "execution": {
          "iopub.execute_input": "2024-03-14T14:31:35.678451Z",
          "iopub.status.busy": "2024-03-14T14:31:35.678045Z",
          "iopub.status.idle": "2024-03-14T14:31:35.682954Z",
          "shell.execute_reply": "2024-03-14T14:31:35.68199Z",
          "shell.execute_reply.started": "2024-03-14T14:31:35.678405Z"
        },
        "id": "DMksFObJKPNq",
        "trusted": true
      },
      "outputs": [],
      "source": [
        "dataloader = DataLoader(CarPartsData,batch_size=20,shuffle=True)"
      ]
    },
    {
      "cell_type": "code",
      "execution_count": null,
      "metadata": {
        "execution": {
          "iopub.execute_input": "2024-03-14T14:31:36.478722Z",
          "iopub.status.busy": "2024-03-14T14:31:36.478343Z",
          "iopub.status.idle": "2024-03-14T14:31:36.504802Z",
          "shell.execute_reply": "2024-03-14T14:31:36.503748Z",
          "shell.execute_reply.started": "2024-03-14T14:31:36.47869Z"
        },
        "id": "2ULNCjz7KPNq",
        "trusted": true
      },
      "outputs": [],
      "source": [
        "device = \"cuda\" if torch.cuda.is_available() else 'cpu'"
      ]
    },
    {
      "cell_type": "code",
      "execution_count": null,
      "metadata": {
        "execution": {
          "iopub.execute_input": "2024-03-14T14:31:38.438164Z",
          "iopub.status.busy": "2024-03-14T14:31:38.437817Z",
          "iopub.status.idle": "2024-03-14T14:31:38.443899Z",
          "shell.execute_reply": "2024-03-14T14:31:38.443007Z",
          "shell.execute_reply.started": "2024-03-14T14:31:38.438134Z"
        },
        "id": "siqXc38aKPNq",
        "trusted": true
      },
      "outputs": [],
      "source": [
        "device"
      ]
    },
    {
      "cell_type": "markdown",
      "metadata": {
        "id": "nPCP2uoNKPNr"
      },
      "source": [
        "## Dice Loss\n",
        "\n",
        "Dice loss, also known as the Sørensen-Dice coefficient or Dice's coefficient, is a statistical tool that measures the similarity between two datasets. It is defined as the ratio of the size of the intersection to the size of the union of two datasets: 2TP / (2TP + FP + FN) where TP is the number of true positives, FP is the number of false positives, and FN is the number of false negatives. Dice loss is a measure of dissimilarity between two datasets, and it ranges from 0 (denoting total dissimilarity) to 1 (denoting perfect similarity).\n"
      ]
    },
    {
      "cell_type": "code",
      "execution_count": null,
      "metadata": {
        "execution": {
          "iopub.execute_input": "2024-03-14T14:31:41.710904Z",
          "iopub.status.busy": "2024-03-14T14:31:41.710284Z",
          "iopub.status.idle": "2024-03-14T17:01:03.899189Z",
          "shell.execute_reply": "2024-03-14T17:01:03.898368Z",
          "shell.execute_reply.started": "2024-03-14T14:31:41.710871Z"
        },
        "id": "_BZ_GkowKPNr",
        "trusted": true
      },
      "outputs": [],
      "source": [
        "learning_rate = 0.0001\n",
        "epochs = 50\n",
        "\n",
        "# Model, Loss, and Optimizer\n",
        "model = MAnet(classes = len(CarPartsClasses_ID)+1,encoder_weights=\"imagenet\")\n",
        "model.to(device)\n",
        "criterion = DiceLoss(classes = len(CarPartsClasses_ID)+1,mode=\"multilabel\")\n",
        "\n",
        "optimizer = torch.optim.Adam(model.parameters(), lr=learning_rate)\n",
        "\n",
        "TrainandValidate(model,optimizer,criterion,dataloader,learning_rate,epochs,\"MAnet\",classes = len(CarPartsClasses_ID)+1)\n"
      ]
    },
    {
      "cell_type": "code",
      "execution_count": null,
      "metadata": {
        "execution": {
          "iopub.execute_input": "2024-03-14T19:17:42.569282Z",
          "iopub.status.busy": "2024-03-14T19:17:42.56841Z",
          "iopub.status.idle": "2024-03-14T19:17:44.267719Z",
          "shell.execute_reply": "2024-03-14T19:17:44.266769Z",
          "shell.execute_reply.started": "2024-03-14T19:17:42.569247Z"
        },
        "id": "_OGcWakaKPNs",
        "trusted": true
      },
      "outputs": [],
      "source": [
        "for filename in os.listdir(\"/kaggle/working/\"):\n",
        "    if filename.startswith(\"checkpoint\"):\n",
        "        os.remove(os.path.join(\"/kaggle/working/\", filename))\n",
        "        print(filename)"
      ]
    },
    {
      "cell_type": "code",
      "execution_count": null,
      "metadata": {
        "execution": {
          "iopub.execute_input": "2024-03-14T17:14:14.119086Z",
          "iopub.status.busy": "2024-03-14T17:14:14.1187Z",
          "iopub.status.idle": "2024-03-14T17:14:14.953622Z",
          "shell.execute_reply": "2024-03-14T17:14:14.951043Z",
          "shell.execute_reply.started": "2024-03-14T17:14:14.119054Z"
        },
        "id": "Cd7OXcZVKPNs",
        "trusted": true
      },
      "outputs": [],
      "source": [
        "torch.save({\n",
        "                'epoch': 34,\n",
        "                'model_state_dict': model.state_dict(),\n",
        "                'optimizer_state_dict': optimizer.state_dict(),\n",
        "                }, f\"MANet Model.pth\")"
      ]
    },
    {
      "cell_type": "code",
      "execution_count": null,
      "metadata": {
        "execution": {
          "iopub.execute_input": "2024-03-14T18:48:14.399808Z",
          "iopub.status.busy": "2024-03-14T18:48:14.399459Z",
          "iopub.status.idle": "2024-03-14T18:48:24.35716Z",
          "shell.execute_reply": "2024-03-14T18:48:24.356282Z",
          "shell.execute_reply.started": "2024-03-14T18:48:14.39978Z"
        },
        "id": "Wrn5IG8sKPNt",
        "trusted": true
      },
      "outputs": [],
      "source": [
        "for i in range(10):\n",
        "    x = random.randrange(1,len(CarPartsData))\n",
        "    output1 = model(CarPartsData[x][0].unsqueeze(0).to('cuda'))\n",
        "    image_viz = CarPartsData[x][0].cpu()\n",
        "    output1 = output1.squeeze(0).detach().cpu()\n",
        "    target = CarPartsData[x][1].squeeze(0).argmax(dim=0)\n",
        "    full_mask = output1.argmax(dim=0)\n",
        "    visualizeImageandMasks(image_viz.permute(1,2,0),full_mask,target)\n",
        "    plt.show()\n"
      ]
    },
    {
      "cell_type": "markdown",
      "metadata": {
        "id": "h_VkfGZfKPNt"
      },
      "source": [
        "## Model Results for Car Parts Identification\n",
        "The IOU (Intersection over Union) score is 0.86, which indicates that the model is able to accurately segment the objects in the images. An IOU score of 1.0 would indicate a perfect segmentation, so 0.86 is a good score.\n",
        "\n",
        "The loss is 0.16, which is relatively low. Lower loss values indicate that the model is able to predict the correct class labels for the pixels in the images.\n",
        "\n",
        "The validation loss is 0.20, which is slightly higher than the training loss. This is expected, as the validation set is not seen by the model during training, so it's a good indicator of how well the model will perform on unseen data.\n",
        "\n",
        "The IOU score on the validation set is 0.86, which is the same as the training set. This indicates that the model is able to generalize well to unseen data.\n",
        "\n",
        "Overall, the model seems to have performed well on both the training and validation sets."
      ]
    },
    {
      "cell_type": "code",
      "execution_count": null,
      "metadata": {
        "id": "JtnGq0wUKPNu"
      },
      "outputs": [],
      "source": []
    },
    {
      "cell_type": "markdown",
      "metadata": {
        "id": "_kKt3A84KPNu"
      },
      "source": [
        "## Car Damage Detection"
      ]
    },
    {
      "cell_type": "code",
      "execution_count": null,
      "metadata": {
        "execution": {
          "iopub.execute_input": "2024-03-14T18:58:06.104631Z",
          "iopub.status.busy": "2024-03-14T18:58:06.104247Z",
          "iopub.status.idle": "2024-03-14T18:58:06.109295Z",
          "shell.execute_reply": "2024-03-14T18:58:06.108276Z",
          "shell.execute_reply.started": "2024-03-14T18:58:06.104599Z"
        },
        "id": "q59e81OHKPNu",
        "trusted": true
      },
      "outputs": [],
      "source": [
        "cardamages_imgs = \"/kaggle/input/car-parts-and-car-damages/Car parts dataset/File1/img/\"\n",
        "cardamages_anns = \"/kaggle/input/car-parts-and-car-damages/Car parts dataset/File1/ann/\"\n",
        "sizes=(320,320)"
      ]
    },
    {
      "cell_type": "code",
      "execution_count": null,
      "metadata": {
        "execution": {
          "iopub.execute_input": "2024-03-14T18:58:06.663329Z",
          "iopub.status.busy": "2024-03-14T18:58:06.662983Z",
          "iopub.status.idle": "2024-03-14T18:58:06.67717Z",
          "shell.execute_reply": "2024-03-14T18:58:06.67641Z",
          "shell.execute_reply.started": "2024-03-14T18:58:06.663297Z"
        },
        "id": "ZDNyP16AKPNv",
        "trusted": true
      },
      "outputs": [],
      "source": [
        "CarDamagesClasses,CarDamagesClasses_ID = retrieve_meta_data(\"/kaggle/input/car-parts-and-car-damages/Car parts dataset/meta.json\")"
      ]
    },
    {
      "cell_type": "code",
      "execution_count": null,
      "metadata": {
        "execution": {
          "iopub.execute_input": "2024-03-14T18:58:08.796774Z",
          "iopub.status.busy": "2024-03-14T18:58:08.796388Z",
          "iopub.status.idle": "2024-03-14T18:58:08.80204Z",
          "shell.execute_reply": "2024-03-14T18:58:08.801039Z",
          "shell.execute_reply.started": "2024-03-14T18:58:08.796745Z"
        },
        "id": "hF4L1X8ZKPNv",
        "trusted": true
      },
      "outputs": [],
      "source": [
        "CarDamagesData =  CarDataLoader(transform,cardamages_imgs,cardamages_anns,CarDamagesClasses_ID,sizes)"
      ]
    },
    {
      "cell_type": "code",
      "execution_count": null,
      "metadata": {
        "execution": {
          "iopub.execute_input": "2024-03-14T18:58:10.052672Z",
          "iopub.status.busy": "2024-03-14T18:58:10.051945Z",
          "iopub.status.idle": "2024-03-14T18:58:10.118609Z",
          "shell.execute_reply": "2024-03-14T18:58:10.117833Z",
          "shell.execute_reply.started": "2024-03-14T18:58:10.052638Z"
        },
        "id": "jc81UrJIKPNw",
        "trusted": true
      },
      "outputs": [],
      "source": [
        "image,mask = CarDamagesData[0]"
      ]
    },
    {
      "cell_type": "code",
      "execution_count": null,
      "metadata": {
        "execution": {
          "iopub.execute_input": "2024-03-14T18:58:12.792409Z",
          "iopub.status.busy": "2024-03-14T18:58:12.791792Z",
          "iopub.status.idle": "2024-03-14T18:58:13.096348Z",
          "shell.execute_reply": "2024-03-14T18:58:13.095434Z",
          "shell.execute_reply.started": "2024-03-14T18:58:12.792374Z"
        },
        "id": "-TUXLtWFKPNw",
        "trusted": true
      },
      "outputs": [],
      "source": [
        "plt.imshow(image.squeeze(0).permute(1,2,0))"
      ]
    },
    {
      "cell_type": "code",
      "execution_count": null,
      "metadata": {
        "execution": {
          "iopub.execute_input": "2024-03-14T18:58:13.570254Z",
          "iopub.status.busy": "2024-03-14T18:58:13.569923Z",
          "iopub.status.idle": "2024-03-14T18:58:13.783181Z",
          "shell.execute_reply": "2024-03-14T18:58:13.782027Z",
          "shell.execute_reply.started": "2024-03-14T18:58:13.570226Z"
        },
        "id": "atThuBo_KPNx",
        "trusted": true
      },
      "outputs": [],
      "source": [
        "plt.imshow(mask.squeeze(0).argmax(dim=0))"
      ]
    },
    {
      "cell_type": "code",
      "execution_count": null,
      "metadata": {
        "execution": {
          "iopub.execute_input": "2024-03-14T19:01:34.265578Z",
          "iopub.status.busy": "2024-03-14T19:01:34.264893Z",
          "iopub.status.idle": "2024-03-14T19:01:34.270195Z",
          "shell.execute_reply": "2024-03-14T19:01:34.269259Z",
          "shell.execute_reply.started": "2024-03-14T19:01:34.265526Z"
        },
        "id": "daOu2pAlKPNx",
        "trusted": true
      },
      "outputs": [],
      "source": [
        "print(len(CarDamagesClasses_ID)+1)"
      ]
    },
    {
      "cell_type": "code",
      "execution_count": null,
      "metadata": {
        "execution": {
          "iopub.execute_input": "2024-03-14T19:01:50.370716Z",
          "iopub.status.busy": "2024-03-14T19:01:50.370351Z",
          "iopub.status.idle": "2024-03-14T19:01:50.375187Z",
          "shell.execute_reply": "2024-03-14T19:01:50.374278Z",
          "shell.execute_reply.started": "2024-03-14T19:01:50.370686Z"
        },
        "id": "v_TCooSCKPNy",
        "trusted": true
      },
      "outputs": [],
      "source": [
        "damagedataloader = DataLoader(CarDamagesData,batch_size=20,shuffle=True)"
      ]
    },
    {
      "cell_type": "markdown",
      "metadata": {
        "id": "0mHq9IRhKPN7"
      },
      "source": [
        "\n",
        "## Jaccard Loss\n",
        "\n",
        "Jaccard loss, also known as Intersection over Union (IoU), is another loss function used to evaluate the performance of a semantic segmentation model. It is defined as the size of the intersection divided by the size of the union of two datasets: TP / (TP + FP + FN). Like Dice loss, Jaccard loss is a measure of dissimilarity between two datasets, and it ranges from 0 (denoting total dissimilarity) to 1 (denoting perfect similarity)."
      ]
    },
    {
      "cell_type": "code",
      "execution_count": null,
      "metadata": {
        "execution": {
          "iopub.execute_input": "2024-03-14T19:19:17.732366Z",
          "iopub.status.busy": "2024-03-14T19:19:17.732016Z",
          "iopub.status.idle": "2024-03-14T19:43:14.466776Z",
          "shell.execute_reply": "2024-03-14T19:43:14.465815Z",
          "shell.execute_reply.started": "2024-03-14T19:19:17.732334Z"
        },
        "id": "DeOy28BuKPN8",
        "trusted": true
      },
      "outputs": [],
      "source": [
        "learning_rate = 0.0001\n",
        "epochs = 30\n",
        "\n",
        "# Model, Loss, and Optimizer\n",
        "model_damages = MAnet(classes = len(CarDamagesClasses_ID)+1,encoder_weights=\"imagenet\")\n",
        "model_damages.to(device)\n",
        "criterion_damages = JaccardLoss(classes = len(CarDamagesClasses_ID)+1,mode=\"multilabel\")\n",
        "\n",
        "optimizer_damages = torch.optim.Adam(model_damages.parameters(), lr=learning_rate)\n",
        "\n",
        "TrainandValidate(model_damages,optimizer_damages,criterion_damages,damagedataloader,learning_rate,epochs,\"MAnet_damages\",classes = len(CarDamagesClasses_ID)+1)\n"
      ]
    },
    {
      "cell_type": "code",
      "execution_count": null,
      "metadata": {
        "execution": {
          "iopub.execute_input": "2024-03-14T19:45:23.711278Z",
          "iopub.status.busy": "2024-03-14T19:45:23.710403Z",
          "iopub.status.idle": "2024-03-14T19:45:30.41855Z",
          "shell.execute_reply": "2024-03-14T19:45:30.417606Z",
          "shell.execute_reply.started": "2024-03-14T19:45:23.71124Z"
        },
        "id": "BayEye_pKPN8",
        "trusted": true
      },
      "outputs": [],
      "source": [
        "for i in range(10):\n",
        "    x = random.randrange(1,len(CarDamagesData))\n",
        "    output1 = model_damages(CarDamagesData[x][0].unsqueeze(0).to('cuda'))\n",
        "    image_viz = CarDamagesData[x][0].cpu()\n",
        "    output1 = output1.squeeze(0).detach().cpu()\n",
        "    target = CarDamagesData[x][1].squeeze(0).argmax(dim=0)\n",
        "    full_mask = output1.argmax(dim=0)\n",
        "    visualizeImageandMasks(image_viz.permute(1,2,0),full_mask,target)\n",
        "    plt.show()"
      ]
    },
    {
      "cell_type": "markdown",
      "metadata": {
        "id": "YotueOqTKPN9"
      },
      "source": []
    },
    {
      "cell_type": "code",
      "execution_count": null,
      "metadata": {
        "execution": {
          "iopub.execute_input": "2024-03-14T19:43:56.834262Z",
          "iopub.status.busy": "2024-03-14T19:43:56.833789Z",
          "iopub.status.idle": "2024-03-14T19:43:57.362589Z",
          "shell.execute_reply": "2024-03-14T19:43:57.361838Z",
          "shell.execute_reply.started": "2024-03-14T19:43:56.83423Z"
        },
        "id": "L-0dWBugKPN9",
        "trusted": true
      },
      "outputs": [],
      "source": [
        "torch.save({\n",
        "                'epoch': 30,\n",
        "                'model_state_dict': model.state_dict(),\n",
        "                'optimizer_state_dict': optimizer.state_dict(),\n",
        "                }, f\"MANet Damages Model.pth\")"
      ]
    },
    {
      "cell_type": "markdown",
      "metadata": {
        "id": "mqPeQv4NKPN9"
      },
      "source": [
        "# Trial 2\n",
        "\n",
        "With Dice Loss"
      ]
    },
    {
      "cell_type": "code",
      "execution_count": null,
      "metadata": {
        "execution": {
          "iopub.execute_input": "2024-03-14T19:47:40.359292Z",
          "iopub.status.busy": "2024-03-14T19:47:40.358566Z"
        },
        "id": "0JRMW9vUKPN-",
        "trusted": true
      },
      "outputs": [],
      "source": [
        "learning_rate = 0.0001\n",
        "epochs = 30\n",
        "\n",
        "# Model, Loss, and Optimizer\n",
        "model_damages = MAnet(classes = len(CarDamagesClasses_ID)+1,encoder_weights=\"imagenet\")\n",
        "model_damages.to(device)\n",
        "criterion_damages = DiceLoss(classes = len(CarDamagesClasses_ID)+1,mode=\"multilabel\")\n",
        "\n",
        "optimizer_damages = torch.optim.Adam(model_damages.parameters(), lr=learning_rate)\n",
        "\n",
        "TrainandValidate(model_damages,optimizer_damages,criterion_damages,damagedataloader,learning_rate,epochs,\"MAnet_damages\",classes = len(CarDamagesClasses_ID)+1)\n"
      ]
    },
    {
      "cell_type": "code",
      "execution_count": null,
      "metadata": {
        "id": "Qad3IGS1KPN-"
      },
      "outputs": [],
      "source": []
    }
  ],
  "metadata": {
    "colab": {
      "name": "MAnet Segmentation Model for Car Parts and Damages",
      "provenance": []
    },
    "kaggle": {
      "accelerator": "gpu",
      "dataSources": [
        {
          "datasetId": 3381789,
          "sourceId": 5884733,
          "sourceType": "datasetVersion"
        }
      ],
      "dockerImageVersionId": 30664,
      "isGpuEnabled": true,
      "isInternetEnabled": true,
      "language": "python",
      "sourceType": "notebook"
    },
    "kernelspec": {
      "display_name": "research-work-DAG-DNN",
      "language": "python",
      "name": "python3"
    },
    "language_info": {
      "codemirror_mode": {
        "name": "ipython",
        "version": 3
      },
      "file_extension": ".py",
      "mimetype": "text/x-python",
      "name": "python",
      "nbconvert_exporter": "python",
      "pygments_lexer": "ipython3",
      "version": "3.7.13"
    }
  },
  "nbformat": 4,
  "nbformat_minor": 0
}
